{
 "cells": [
  {
   "cell_type": "code",
   "execution_count": 1,
   "id": "413a12d9",
   "metadata": {},
   "outputs": [],
   "source": [
    "import numpy as np\n",
    "import matplotlib.pyplot as plt\n",
    "import math"
   ]
  },
  {
   "cell_type": "code",
   "execution_count": 16,
   "id": "1085c981",
   "metadata": {},
   "outputs": [
    {
     "name": "stdout",
     "output_type": "stream",
     "text": [
      "Epoch 0: Cost = 1.5281730446890716\n",
      "Epoch 100: Cost = 0.48832088432899723\n",
      "Epoch 200: Cost = 0.4071381879618099\n",
      "Epoch 300: Cost = 0.35117873055780247\n",
      "Epoch 400: Cost = 0.31014687986417633\n",
      "Epoch 500: Cost = 0.27885097720333824\n",
      "Epoch 600: Cost = 0.2541782048937245\n",
      "Epoch 700: Cost = 0.23418741510252516\n",
      "Epoch 800: Cost = 0.21761979520679076\n",
      "Epoch 900: Cost = 0.2036289406400722\n",
      "Test Predictions: [0 1]\n",
      "Final Weights: [ 3.86166916 -5.7495372 ]\n",
      "Final Bias: 0.9714201402113926\n"
     ]
    }
   ],
   "source": [
    "# Sigmoid function\n",
    "def sigmoid(x):\n",
    "    return 1 / (1 + np.exp(-x))\n",
    "\n",
    "#Cost Function\n",
    "def binary_cross_entropy(y_true, y_pred):\n",
    "    y_pred = np.clip(y_pred, 1e-15, 1 - 1e-15)\n",
    "    return -np.mean(y_true * np.log(y_pred) + (1 - y_true) * np.log(1 - y_pred))\n",
    "\n",
    "# Forward function\n",
    "def forward(inputs, weights, bias):\n",
    "    z = np.dot(inputs, weights) + bias\n",
    "    return sigmoid(z)\n",
    "\n",
    "# Fit function (training)\n",
    "def fit(X, y, weights, bias, learning_rate, epochs):\n",
    "    m = X.shape[0]  \n",
    "    \n",
    "    for epoch in range(epochs):\n",
    "        y_pred = forward(X, weights, bias)\n",
    "        \n",
    "        cost = binary_cross_entropy(y, y_pred)\n",
    "        \n",
    "        dw = np.dot(X.T, (y_pred - y)) / m\n",
    "        db = np.sum(y_pred - y) / m\n",
    "        \n",
    "        weights -= learning_rate * dw\n",
    "        bias -= learning_rate * db\n",
    "        \n",
    "        if epoch % 100 == 0:\n",
    "            print(f\"Epoch {epoch}: Cost = {cost}\")\n",
    "    \n",
    "    return weights, bias\n",
    "\n",
    "# Predict function\n",
    "def predict(X, weights, bias, threshold=0.5):\n",
    "    probabilities = forward(X, weights, bias)\n",
    "    predictions = (probabilities >= threshold).astype(int)\n",
    "    return predictions\n",
    "\n",
    "\n",
    "\n",
    "\n",
    "\n",
    "# using those functions\n",
    "\n",
    "# Training data\n",
    "X = np.array([[0.5, 0.3], [0.2, 0.8], [0.9, 0.4], [0.4, 0.6]])\n",
    "y = np.array([1, 0, 1, 0])\n",
    "    \n",
    "weights = np.random.randn(X.shape[1])\n",
    "bias = np.random.randn()\n",
    "    \n",
    "learning_rate = 0.1\n",
    "epochs = 1000\n",
    "\n",
    "weights, bias = fit(X, y, weights, bias, learning_rate, epochs)\n",
    "\n",
    "X_test = np.array([[0.6, 0.7], [0.1, 0.2]])  # Test inputs\n",
    "\n",
    "predictions = predict(X_test, weights, bias)\n",
    "    \n",
    "print(f\"Test Predictions: {predictions}\")\n",
    "print(f\"Final Weights: {weights}\")\n",
    "print(f\"Final Bias: {bias}\")\n"
   ]
  }
 ],
 "metadata": {
  "kernelspec": {
   "display_name": "Python 3 (ipykernel)",
   "language": "python",
   "name": "python3"
  },
  "language_info": {
   "codemirror_mode": {
    "name": "ipython",
    "version": 3
   },
   "file_extension": ".py",
   "mimetype": "text/x-python",
   "name": "python",
   "nbconvert_exporter": "python",
   "pygments_lexer": "ipython3",
   "version": "3.11.5"
  }
 },
 "nbformat": 4,
 "nbformat_minor": 5
}
