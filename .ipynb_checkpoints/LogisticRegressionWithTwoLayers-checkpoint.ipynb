{
 "cells": [
  {
   "cell_type": "code",
   "execution_count": 1,
   "id": "a59a1ca1",
   "metadata": {},
   "outputs": [],
   "source": [
    "import numpy as np"
   ]
  },
  {
   "cell_type": "code",
   "execution_count": 1,
   "id": "1c19dbae",
   "metadata": {},
   "outputs": [
    {
     "name": "stdout",
     "output_type": "stream",
     "text": [
      "Predicted Output: 0.4828142603742423\n"
     ]
    }
   ],
   "source": [
    "import numpy as np\n",
    "\n",
    "# Sigmoid \n",
    "def sigmoid(z):\n",
    "    return 1 / (1 + np.exp(-z))\n",
    "\n",
    "# Forward function \n",
    "def forward_pass(X, weights_hidden, bias_hidden, weights_output, bias_output):\n",
    "    # Step 1: Hidden layer computation\n",
    "    z_hidden = np.dot(X, weights_hidden) + bias_hidden\n",
    "    hidden_output = sigmoid(z_hidden)\n",
    "    \n",
    "    # Step 2: Output layer computation\n",
    "    z_output = np.dot(hidden_output, weights_output) + bias_output\n",
    "    output = sigmoid(z_output)\n",
    "    \n",
    "    return output\n",
    "\n",
    "# Inputs (2 input features)\n",
    "X = np.array([0.7, 0.3])\n",
    "\n",
    "# Hidden layer: 2 neurons (each with 2 input connections)\n",
    "weights_hidden = np.array([[0.5, 0.4], [-0.6, 0.8]])\n",
    "bias_hidden = np.array([0.1, -0.3])\n",
    "\n",
    "# Output layer: 1 neuron (taking inputs from 2 hidden neurons)\n",
    "weights_output = np.array([0.7, -1.2])\n",
    "bias_output = 0.2\n",
    "\n",
    "output = forward_pass(X, weights_hidden, bias_hidden, weights_output, bias_output)\n",
    "\n",
    "print(f\"Predicted Output: {output}\")\n"
   ]
  },
  {
   "cell_type": "code",
   "execution_count": null,
   "id": "c95ca224",
   "metadata": {},
   "outputs": [],
   "source": []
  }
 ],
 "metadata": {
  "kernelspec": {
   "display_name": "Python 3 (ipykernel)",
   "language": "python",
   "name": "python3"
  },
  "language_info": {
   "codemirror_mode": {
    "name": "ipython",
    "version": 3
   },
   "file_extension": ".py",
   "mimetype": "text/x-python",
   "name": "python",
   "nbconvert_exporter": "python",
   "pygments_lexer": "ipython3",
   "version": "3.11.5"
  }
 },
 "nbformat": 4,
 "nbformat_minor": 5
}
