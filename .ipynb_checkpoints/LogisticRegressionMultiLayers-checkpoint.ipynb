{
 "cells": [
  {
   "cell_type": "code",
   "execution_count": 1,
   "id": "33483294",
   "metadata": {},
   "outputs": [
    {
     "name": "stdout",
     "output_type": "stream",
     "text": [
      "Predicted Output: [0.45719094]\n"
     ]
    }
   ],
   "source": [
    "import numpy as np\n",
    "\n",
    "def sigmoid(z):\n",
    "    return 1 / (1 + np.exp(-z))\n",
    "\n",
    "# Forward function \n",
    "def forward_pass_multilayer(X, weights, biases):\n",
    "    \"\"\"\n",
    "    X: Input data (1D array for single sample)\n",
    "    weights: List of weight matrices for each layer\n",
    "    biases: List of bias vectors for each layer\n",
    "    \"\"\"\n",
    "    # Input to the first hidden layer is the data X\n",
    "    activation = X\n",
    "    \n",
    "    # Loop through each layer's weights and biases\n",
    "    for w, b in zip(weights, biases):\n",
    "        # Calculate the weighted sum for the current layer\n",
    "        z = np.dot(activation, w) + b\n",
    "        # Apply the sigmoid activation function\n",
    "        activation = sigmoid(z)\n",
    "    \n",
    "    # The final activation is the output of the network\n",
    "    return activation\n",
    "\n",
    "# Inputs (2 input features)\n",
    "X = np.array([0.7, 0.3])\n",
    "\n",
    "# Manually initialized weights and biases for a network with 2 hidden layers\n",
    "# Weights for Hidden layer 1: 2 inputs -> 3 neurons\n",
    "weights_hidden_1 = np.array([[0.5, -0.6, 0.1], [0.8, -0.2, 0.7]])\n",
    "bias_hidden_1 = np.array([0.1, -0.1, 0.2])\n",
    "\n",
    "# Weights for Hidden layer 2: 3 neurons -> 2 neurons\n",
    "weights_hidden_2 = np.array([[0.3, 0.6], [-0.7, 0.9], [0.2, -0.5]])\n",
    "bias_hidden_2 = np.array([0.05, -0.05])\n",
    "\n",
    "# Weights for Output layer: 2 neurons -> 1 neuron\n",
    "weights_output = np.array([[0.6], [-1.0]])\n",
    "bias_output = np.array([0.1])\n",
    "\n",
    "# Combine weights and biases into lists for easier iteration\n",
    "weights = [weights_hidden_1, weights_hidden_2, weights_output]\n",
    "biases = [bias_hidden_1, bias_hidden_2, bias_output]\n",
    "\n",
    "# Perform the forward pass through the multilayer network\n",
    "output = forward_pass_multilayer(X, weights, biases)\n",
    "\n",
    "# Print the result\n",
    "print(f\"Predicted Output: {output}\")\n"
   ]
  },
  {
   "cell_type": "code",
   "execution_count": null,
   "id": "c5b514e5",
   "metadata": {},
   "outputs": [],
   "source": []
  }
 ],
 "metadata": {
  "kernelspec": {
   "display_name": "Python 3 (ipykernel)",
   "language": "python",
   "name": "python3"
  },
  "language_info": {
   "codemirror_mode": {
    "name": "ipython",
    "version": 3
   },
   "file_extension": ".py",
   "mimetype": "text/x-python",
   "name": "python",
   "nbconvert_exporter": "python",
   "pygments_lexer": "ipython3",
   "version": "3.11.5"
  }
 },
 "nbformat": 4,
 "nbformat_minor": 5
}
